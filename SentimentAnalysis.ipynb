{
  "cells": [
    {
      "cell_type": "code",
      "source": [
        "# import libraries for Cleaning and lemmatizing the text reviews field for better improvement of the model.\n",
        "from nltk.sentiment.vader import SentimentIntensityAnalyzer\n",
        "from nltk.corpus import stopwords\n",
        "from nltk.tokenize import word_tokenize\n",
        "from nltk.stem import WordNetLemmatizer"
      ],
      "metadata": {
        "id": "PBrQySJ3qVc5"
      },
      "execution_count": null,
      "outputs": []
    },
    {
      "cell_type": "code",
      "execution_count": null,
      "metadata": {
        "colab": {
          "base_uri": "https://localhost:8080/"
        },
        "id": "NZtZHdcMRIFP",
        "outputId": "f7dedf17-1783-439d-c4ef-ced791007d40"
      },
      "outputs": [
        {
          "output_type": "execute_result",
          "data": {
            "text/plain": [
              "32512"
            ]
          },
          "metadata": {},
          "execution_count": 32
        }
      ],
      "source": [
        "# Importing required libraries\n",
        "from termcolor import colored\n",
        "import os\n",
        "import pandas as pd\n",
        "import numpy as np\n",
        "import re\n",
        "import nltk\n",
        "import tarfile\n",
        "\n",
        "# Enabling colored output in terminal (Windows-specific)\n",
        "os.system('color')\n"
      ]
    },
    {
      "cell_type": "code",
      "source": [
        "nltk.download('all')"
      ],
      "metadata": {
        "colab": {
          "base_uri": "https://localhost:8080/"
        },
        "id": "CKVvafkhskRi",
        "outputId": "cbaf8ac8-b134-4f59-fda1-b2634f4b84a9"
      },
      "execution_count": null,
      "outputs": [
        {
          "output_type": "stream",
          "name": "stderr",
          "text": [
            "[nltk_data] Downloading collection 'all'\n",
            "[nltk_data]    | \n",
            "[nltk_data]    | Downloading package abc to /root/nltk_data...\n",
            "[nltk_data]    |   Unzipping corpora/abc.zip.\n",
            "[nltk_data]    | Downloading package alpino to /root/nltk_data...\n",
            "[nltk_data]    |   Unzipping corpora/alpino.zip.\n",
            "[nltk_data]    | Downloading package averaged_perceptron_tagger to\n",
            "[nltk_data]    |     /root/nltk_data...\n",
            "[nltk_data]    |   Unzipping taggers/averaged_perceptron_tagger.zip.\n",
            "[nltk_data]    | Downloading package averaged_perceptron_tagger_ru to\n",
            "[nltk_data]    |     /root/nltk_data...\n",
            "[nltk_data]    |   Unzipping\n",
            "[nltk_data]    |       taggers/averaged_perceptron_tagger_ru.zip.\n",
            "[nltk_data]    | Downloading package basque_grammars to\n",
            "[nltk_data]    |     /root/nltk_data...\n",
            "[nltk_data]    |   Unzipping grammars/basque_grammars.zip.\n",
            "[nltk_data]    | Downloading package bcp47 to /root/nltk_data...\n",
            "[nltk_data]    | Downloading package biocreative_ppi to\n",
            "[nltk_data]    |     /root/nltk_data...\n",
            "[nltk_data]    |   Unzipping corpora/biocreative_ppi.zip.\n",
            "[nltk_data]    | Downloading package bllip_wsj_no_aux to\n",
            "[nltk_data]    |     /root/nltk_data...\n",
            "[nltk_data]    |   Unzipping models/bllip_wsj_no_aux.zip.\n",
            "[nltk_data]    | Downloading package book_grammars to\n",
            "[nltk_data]    |     /root/nltk_data...\n",
            "[nltk_data]    |   Unzipping grammars/book_grammars.zip.\n",
            "[nltk_data]    | Downloading package brown to /root/nltk_data...\n",
            "[nltk_data]    |   Unzipping corpora/brown.zip.\n",
            "[nltk_data]    | Downloading package brown_tei to /root/nltk_data...\n",
            "[nltk_data]    |   Unzipping corpora/brown_tei.zip.\n",
            "[nltk_data]    | Downloading package cess_cat to /root/nltk_data...\n",
            "[nltk_data]    |   Unzipping corpora/cess_cat.zip.\n",
            "[nltk_data]    | Downloading package cess_esp to /root/nltk_data...\n",
            "[nltk_data]    |   Unzipping corpora/cess_esp.zip.\n",
            "[nltk_data]    | Downloading package chat80 to /root/nltk_data...\n",
            "[nltk_data]    |   Unzipping corpora/chat80.zip.\n",
            "[nltk_data]    | Downloading package city_database to\n",
            "[nltk_data]    |     /root/nltk_data...\n",
            "[nltk_data]    |   Unzipping corpora/city_database.zip.\n",
            "[nltk_data]    | Downloading package cmudict to /root/nltk_data...\n",
            "[nltk_data]    |   Unzipping corpora/cmudict.zip.\n",
            "[nltk_data]    | Downloading package comparative_sentences to\n",
            "[nltk_data]    |     /root/nltk_data...\n",
            "[nltk_data]    |   Unzipping corpora/comparative_sentences.zip.\n",
            "[nltk_data]    | Downloading package comtrans to /root/nltk_data...\n",
            "[nltk_data]    | Downloading package conll2000 to /root/nltk_data...\n",
            "[nltk_data]    |   Unzipping corpora/conll2000.zip.\n",
            "[nltk_data]    | Downloading package conll2002 to /root/nltk_data...\n",
            "[nltk_data]    |   Unzipping corpora/conll2002.zip.\n",
            "[nltk_data]    | Downloading package conll2007 to /root/nltk_data...\n",
            "[nltk_data]    | Downloading package crubadan to /root/nltk_data...\n",
            "[nltk_data]    |   Unzipping corpora/crubadan.zip.\n",
            "[nltk_data]    | Downloading package dependency_treebank to\n",
            "[nltk_data]    |     /root/nltk_data...\n",
            "[nltk_data]    |   Unzipping corpora/dependency_treebank.zip.\n",
            "[nltk_data]    | Downloading package dolch to /root/nltk_data...\n",
            "[nltk_data]    |   Unzipping corpora/dolch.zip.\n",
            "[nltk_data]    | Downloading package europarl_raw to\n",
            "[nltk_data]    |     /root/nltk_data...\n",
            "[nltk_data]    |   Unzipping corpora/europarl_raw.zip.\n",
            "[nltk_data]    | Downloading package extended_omw to\n",
            "[nltk_data]    |     /root/nltk_data...\n",
            "[nltk_data]    | Downloading package floresta to /root/nltk_data...\n",
            "[nltk_data]    |   Unzipping corpora/floresta.zip.\n",
            "[nltk_data]    | Downloading package framenet_v15 to\n",
            "[nltk_data]    |     /root/nltk_data...\n",
            "[nltk_data]    |   Unzipping corpora/framenet_v15.zip.\n",
            "[nltk_data]    | Downloading package framenet_v17 to\n",
            "[nltk_data]    |     /root/nltk_data...\n",
            "[nltk_data]    |   Unzipping corpora/framenet_v17.zip.\n",
            "[nltk_data]    | Downloading package gazetteers to /root/nltk_data...\n",
            "[nltk_data]    |   Unzipping corpora/gazetteers.zip.\n",
            "[nltk_data]    | Downloading package genesis to /root/nltk_data...\n",
            "[nltk_data]    |   Unzipping corpora/genesis.zip.\n",
            "[nltk_data]    | Downloading package gutenberg to /root/nltk_data...\n",
            "[nltk_data]    |   Unzipping corpora/gutenberg.zip.\n",
            "[nltk_data]    | Downloading package ieer to /root/nltk_data...\n",
            "[nltk_data]    |   Unzipping corpora/ieer.zip.\n",
            "[nltk_data]    | Downloading package inaugural to /root/nltk_data...\n",
            "[nltk_data]    |   Unzipping corpora/inaugural.zip.\n",
            "[nltk_data]    | Downloading package indian to /root/nltk_data...\n",
            "[nltk_data]    |   Unzipping corpora/indian.zip.\n",
            "[nltk_data]    | Downloading package jeita to /root/nltk_data...\n",
            "[nltk_data]    | Downloading package kimmo to /root/nltk_data...\n",
            "[nltk_data]    |   Unzipping corpora/kimmo.zip.\n",
            "[nltk_data]    | Downloading package knbc to /root/nltk_data...\n",
            "[nltk_data]    | Downloading package large_grammars to\n",
            "[nltk_data]    |     /root/nltk_data...\n",
            "[nltk_data]    |   Unzipping grammars/large_grammars.zip.\n",
            "[nltk_data]    | Downloading package lin_thesaurus to\n",
            "[nltk_data]    |     /root/nltk_data...\n",
            "[nltk_data]    |   Unzipping corpora/lin_thesaurus.zip.\n",
            "[nltk_data]    | Downloading package mac_morpho to /root/nltk_data...\n",
            "[nltk_data]    |   Unzipping corpora/mac_morpho.zip.\n",
            "[nltk_data]    | Downloading package machado to /root/nltk_data...\n",
            "[nltk_data]    | Downloading package masc_tagged to /root/nltk_data...\n",
            "[nltk_data]    | Downloading package maxent_ne_chunker to\n",
            "[nltk_data]    |     /root/nltk_data...\n",
            "[nltk_data]    |   Unzipping chunkers/maxent_ne_chunker.zip.\n",
            "[nltk_data]    | Downloading package maxent_treebank_pos_tagger to\n",
            "[nltk_data]    |     /root/nltk_data...\n",
            "[nltk_data]    |   Unzipping taggers/maxent_treebank_pos_tagger.zip.\n",
            "[nltk_data]    | Downloading package moses_sample to\n",
            "[nltk_data]    |     /root/nltk_data...\n",
            "[nltk_data]    |   Unzipping models/moses_sample.zip.\n",
            "[nltk_data]    | Downloading package movie_reviews to\n",
            "[nltk_data]    |     /root/nltk_data...\n",
            "[nltk_data]    |   Unzipping corpora/movie_reviews.zip.\n",
            "[nltk_data]    | Downloading package mte_teip5 to /root/nltk_data...\n",
            "[nltk_data]    |   Unzipping corpora/mte_teip5.zip.\n",
            "[nltk_data]    | Downloading package mwa_ppdb to /root/nltk_data...\n",
            "[nltk_data]    |   Unzipping misc/mwa_ppdb.zip.\n",
            "[nltk_data]    | Downloading package names to /root/nltk_data...\n",
            "[nltk_data]    |   Unzipping corpora/names.zip.\n",
            "[nltk_data]    | Downloading package nombank.1.0 to /root/nltk_data...\n",
            "[nltk_data]    | Downloading package nonbreaking_prefixes to\n",
            "[nltk_data]    |     /root/nltk_data...\n",
            "[nltk_data]    |   Unzipping corpora/nonbreaking_prefixes.zip.\n",
            "[nltk_data]    | Downloading package nps_chat to /root/nltk_data...\n",
            "[nltk_data]    |   Unzipping corpora/nps_chat.zip.\n",
            "[nltk_data]    | Downloading package omw to /root/nltk_data...\n",
            "[nltk_data]    | Downloading package omw-1.4 to /root/nltk_data...\n",
            "[nltk_data]    | Downloading package opinion_lexicon to\n",
            "[nltk_data]    |     /root/nltk_data...\n",
            "[nltk_data]    |   Unzipping corpora/opinion_lexicon.zip.\n",
            "[nltk_data]    | Downloading package panlex_swadesh to\n",
            "[nltk_data]    |     /root/nltk_data...\n",
            "[nltk_data]    | Downloading package paradigms to /root/nltk_data...\n",
            "[nltk_data]    |   Unzipping corpora/paradigms.zip.\n",
            "[nltk_data]    | Downloading package pe08 to /root/nltk_data...\n",
            "[nltk_data]    |   Unzipping corpora/pe08.zip.\n",
            "[nltk_data]    | Downloading package perluniprops to\n",
            "[nltk_data]    |     /root/nltk_data...\n",
            "[nltk_data]    |   Unzipping misc/perluniprops.zip.\n",
            "[nltk_data]    | Downloading package pil to /root/nltk_data...\n",
            "[nltk_data]    |   Unzipping corpora/pil.zip.\n",
            "[nltk_data]    | Downloading package pl196x to /root/nltk_data...\n",
            "[nltk_data]    |   Unzipping corpora/pl196x.zip.\n",
            "[nltk_data]    | Downloading package porter_test to /root/nltk_data...\n",
            "[nltk_data]    |   Unzipping stemmers/porter_test.zip.\n",
            "[nltk_data]    | Downloading package ppattach to /root/nltk_data...\n",
            "[nltk_data]    |   Unzipping corpora/ppattach.zip.\n",
            "[nltk_data]    | Downloading package problem_reports to\n",
            "[nltk_data]    |     /root/nltk_data...\n",
            "[nltk_data]    |   Unzipping corpora/problem_reports.zip.\n",
            "[nltk_data]    | Downloading package product_reviews_1 to\n",
            "[nltk_data]    |     /root/nltk_data...\n",
            "[nltk_data]    |   Unzipping corpora/product_reviews_1.zip.\n",
            "[nltk_data]    | Downloading package product_reviews_2 to\n",
            "[nltk_data]    |     /root/nltk_data...\n",
            "[nltk_data]    |   Unzipping corpora/product_reviews_2.zip.\n",
            "[nltk_data]    | Downloading package propbank to /root/nltk_data...\n",
            "[nltk_data]    | Downloading package pros_cons to /root/nltk_data...\n",
            "[nltk_data]    |   Unzipping corpora/pros_cons.zip.\n",
            "[nltk_data]    | Downloading package ptb to /root/nltk_data...\n",
            "[nltk_data]    |   Unzipping corpora/ptb.zip.\n",
            "[nltk_data]    | Downloading package punkt to /root/nltk_data...\n",
            "[nltk_data]    |   Unzipping tokenizers/punkt.zip.\n",
            "[nltk_data]    | Downloading package qc to /root/nltk_data...\n",
            "[nltk_data]    |   Unzipping corpora/qc.zip.\n",
            "[nltk_data]    | Downloading package reuters to /root/nltk_data...\n",
            "[nltk_data]    | Downloading package rslp to /root/nltk_data...\n",
            "[nltk_data]    |   Unzipping stemmers/rslp.zip.\n",
            "[nltk_data]    | Downloading package rte to /root/nltk_data...\n",
            "[nltk_data]    |   Unzipping corpora/rte.zip.\n",
            "[nltk_data]    | Downloading package sample_grammars to\n",
            "[nltk_data]    |     /root/nltk_data...\n",
            "[nltk_data]    |   Unzipping grammars/sample_grammars.zip.\n",
            "[nltk_data]    | Downloading package semcor to /root/nltk_data...\n",
            "[nltk_data]    | Downloading package senseval to /root/nltk_data...\n",
            "[nltk_data]    |   Unzipping corpora/senseval.zip.\n",
            "[nltk_data]    | Downloading package sentence_polarity to\n",
            "[nltk_data]    |     /root/nltk_data...\n",
            "[nltk_data]    |   Unzipping corpora/sentence_polarity.zip.\n",
            "[nltk_data]    | Downloading package sentiwordnet to\n",
            "[nltk_data]    |     /root/nltk_data...\n",
            "[nltk_data]    |   Unzipping corpora/sentiwordnet.zip.\n",
            "[nltk_data]    | Downloading package shakespeare to /root/nltk_data...\n",
            "[nltk_data]    |   Unzipping corpora/shakespeare.zip.\n",
            "[nltk_data]    | Downloading package sinica_treebank to\n",
            "[nltk_data]    |     /root/nltk_data...\n",
            "[nltk_data]    |   Unzipping corpora/sinica_treebank.zip.\n",
            "[nltk_data]    | Downloading package smultron to /root/nltk_data...\n",
            "[nltk_data]    |   Unzipping corpora/smultron.zip.\n",
            "[nltk_data]    | Downloading package snowball_data to\n",
            "[nltk_data]    |     /root/nltk_data...\n",
            "[nltk_data]    | Downloading package spanish_grammars to\n",
            "[nltk_data]    |     /root/nltk_data...\n",
            "[nltk_data]    |   Unzipping grammars/spanish_grammars.zip.\n",
            "[nltk_data]    | Downloading package state_union to /root/nltk_data...\n",
            "[nltk_data]    |   Unzipping corpora/state_union.zip.\n",
            "[nltk_data]    | Downloading package stopwords to /root/nltk_data...\n",
            "[nltk_data]    |   Unzipping corpora/stopwords.zip.\n",
            "[nltk_data]    | Downloading package subjectivity to\n",
            "[nltk_data]    |     /root/nltk_data...\n",
            "[nltk_data]    |   Unzipping corpora/subjectivity.zip.\n",
            "[nltk_data]    | Downloading package swadesh to /root/nltk_data...\n",
            "[nltk_data]    |   Unzipping corpora/swadesh.zip.\n",
            "[nltk_data]    | Downloading package switchboard to /root/nltk_data...\n",
            "[nltk_data]    |   Unzipping corpora/switchboard.zip.\n",
            "[nltk_data]    | Downloading package tagsets to /root/nltk_data...\n",
            "[nltk_data]    |   Unzipping help/tagsets.zip.\n",
            "[nltk_data]    | Downloading package timit to /root/nltk_data...\n",
            "[nltk_data]    |   Unzipping corpora/timit.zip.\n",
            "[nltk_data]    | Downloading package toolbox to /root/nltk_data...\n",
            "[nltk_data]    |   Unzipping corpora/toolbox.zip.\n",
            "[nltk_data]    | Downloading package treebank to /root/nltk_data...\n",
            "[nltk_data]    |   Unzipping corpora/treebank.zip.\n",
            "[nltk_data]    | Downloading package twitter_samples to\n",
            "[nltk_data]    |     /root/nltk_data...\n",
            "[nltk_data]    |   Unzipping corpora/twitter_samples.zip.\n",
            "[nltk_data]    | Downloading package udhr to /root/nltk_data...\n",
            "[nltk_data]    |   Unzipping corpora/udhr.zip.\n",
            "[nltk_data]    | Downloading package udhr2 to /root/nltk_data...\n",
            "[nltk_data]    |   Unzipping corpora/udhr2.zip.\n",
            "[nltk_data]    | Downloading package unicode_samples to\n",
            "[nltk_data]    |     /root/nltk_data...\n",
            "[nltk_data]    |   Unzipping corpora/unicode_samples.zip.\n",
            "[nltk_data]    | Downloading package universal_tagset to\n",
            "[nltk_data]    |     /root/nltk_data...\n",
            "[nltk_data]    |   Unzipping taggers/universal_tagset.zip.\n",
            "[nltk_data]    | Downloading package universal_treebanks_v20 to\n",
            "[nltk_data]    |     /root/nltk_data...\n",
            "[nltk_data]    | Downloading package vader_lexicon to\n",
            "[nltk_data]    |     /root/nltk_data...\n",
            "[nltk_data]    | Downloading package verbnet to /root/nltk_data...\n",
            "[nltk_data]    |   Unzipping corpora/verbnet.zip.\n",
            "[nltk_data]    | Downloading package verbnet3 to /root/nltk_data...\n",
            "[nltk_data]    |   Unzipping corpora/verbnet3.zip.\n",
            "[nltk_data]    | Downloading package webtext to /root/nltk_data...\n",
            "[nltk_data]    |   Unzipping corpora/webtext.zip.\n",
            "[nltk_data]    | Downloading package wmt15_eval to /root/nltk_data...\n",
            "[nltk_data]    |   Unzipping models/wmt15_eval.zip.\n",
            "[nltk_data]    | Downloading package word2vec_sample to\n",
            "[nltk_data]    |     /root/nltk_data...\n",
            "[nltk_data]    |   Unzipping models/word2vec_sample.zip.\n",
            "[nltk_data]    | Downloading package wordnet to /root/nltk_data...\n",
            "[nltk_data]    | Downloading package wordnet2021 to /root/nltk_data...\n",
            "[nltk_data]    | Downloading package wordnet2022 to /root/nltk_data...\n",
            "[nltk_data]    |   Unzipping corpora/wordnet2022.zip.\n",
            "[nltk_data]    | Downloading package wordnet31 to /root/nltk_data...\n",
            "[nltk_data]    | Downloading package wordnet_ic to /root/nltk_data...\n",
            "[nltk_data]    |   Unzipping corpora/wordnet_ic.zip.\n",
            "[nltk_data]    | Downloading package words to /root/nltk_data...\n",
            "[nltk_data]    |   Unzipping corpora/words.zip.\n",
            "[nltk_data]    | Downloading package ycoe to /root/nltk_data...\n",
            "[nltk_data]    |   Unzipping corpora/ycoe.zip.\n",
            "[nltk_data]    | \n",
            "[nltk_data]  Done downloading collection all\n"
          ]
        },
        {
          "output_type": "execute_result",
          "data": {
            "text/plain": [
              "True"
            ]
          },
          "metadata": {},
          "execution_count": 33
        }
      ]
    },
    {
      "cell_type": "code",
      "execution_count": null,
      "metadata": {
        "id": "HoMRZpOmV9NG"
      },
      "outputs": [],
      "source": [
        "# Opening the tar.gz file\n",
        "file = tarfile.open('/content/drive/MyDrive/DataForDrive/unprocessed.tar.gz')\n",
        "\n",
        "# Extracting the contents of the tar.gz file\n",
        "file.extractall('/content')\n",
        "\n",
        "# Closing the tar file\n",
        "file.close()\n",
        "\n",
        "# Function to get all review file paths\n",
        "def get_all_review_paths(root_dir):\n",
        "    all_review_paths = []\n",
        "    for root, dirs, files in os.walk(root_dir):\n",
        "        for file in files:\n",
        "            if file == 'all.review':  # Checking for files named 'all.review'\n",
        "                full_path = os.path.join(root, file)\n",
        "                all_review_paths.append(full_path)\n",
        "    return all_review_paths\n",
        "\n",
        "# Define the path to the 'sorted_data' directory\n",
        "root_directory = '/content/sorted_data'\n",
        "\n",
        "# Get all 'all.review' file paths\n",
        "review_paths = get_all_review_paths(root_directory)\n",
        "print(review_paths)"
      ]
    },
    {
      "cell_type": "code",
      "execution_count": null,
      "metadata": {
        "id": "k3QPiCcuhVaz"
      },
      "outputs": [],
      "source": [
        "# Regular expression pattern for parsing reviews\n",
        "pattern = r\"\"\"\n",
        "<review>\\s*\n",
        "<unique_id>(.*?)</unique_id>\\s*\n",
        "<unique_id>(.*?)</unique_id>\\s*\n",
        "<asin>(.*?)</asin>\\s*\n",
        "<product_name>(.*?)</product_name>\\s*\n",
        "(?:<product_type>(.*?)</product_type>\\s*)+\n",
        "<helpful>(.*?)</helpful>\\s*\n",
        "<rating>(.*?)</rating>\\s*\n",
        "<title>(.*?)</title>\\s*\n",
        "<date>(.*?)</date>\\s*\n",
        "<reviewer>(.*?)</reviewer>\\s*\n",
        "<reviewer_location>(.*?)</reviewer_location>\\s*\n",
        "<review_text>(.*?)</review_text>\\s*\n",
        "</review>\n",
        "\"\"\""
      ]
    },
    {
      "cell_type": "code",
      "execution_count": null,
      "metadata": {
        "id": "Oo97hi92kF3n"
      },
      "outputs": [],
      "source": [
        "# Function to build a DataFrame from review files\n",
        "def build_dataframe2(paths, pattern):\n",
        "    df_list = []\n",
        "    for path in paths:\n",
        "        with open(path, encoding='latin-1') as f:\n",
        "            data = f.read()\n",
        "\n",
        "        data = data[:10000000] # Not using all of the reviews.\n",
        "        data = re.sub(r'\\s+', ' ', data)  # Clean up whitespace issues\n",
        "\n",
        "        matches = re.findall(pattern, data, re.DOTALL | re.VERBOSE)\n",
        "        columns = [\"unique_id_full\", \"unique_id\", \"asin\", \"product_name\", \"product_type_last\",\n",
        "                   \"helpful\", \"rating\", \"title\", \"date\", \"reviewer\", \"reviewer_location\", \"review_text\"]\n",
        "\n",
        "        df = pd.DataFrame(matches, columns=columns)\n",
        "        # print(colored('hello', 'red'), colored('world', 'green'))\n",
        "        print('\\n\\n',colored(str(path),'red'),  'has:',colored(str(len(df)),'green'),  'rows')\n",
        "        df['date'] = pd.to_datetime(df['date'], errors='coerce', infer_datetime_format=True)  # Updated line\n",
        "        df_list.append(df)\n",
        "    final_df = pd.concat(df_list, ignore_index=True)\n",
        "    return final_df\n"
      ]
    },
    {
      "cell_type": "code",
      "execution_count": null,
      "metadata": {
        "colab": {
          "background_save": true
        },
        "id": "8CAta1BLiv9R"
      },
      "outputs": [],
      "source": [
        "# Build the training and testing DataFrame. Since I have Already done this no need to do this again.\n",
        "# test_df=build_dataframe2(test_paths,pattern)"
      ]
    },
    {
      "cell_type": "code",
      "source": [
        "# Build the training and testing DataFrame. Since I have Already done this no need to do this again.\n",
        "train_df=build_dataframe2(review_paths,pattern)"
      ],
      "metadata": {
        "id": "UvgPwQAItBQz"
      },
      "execution_count": null,
      "outputs": []
    },
    {
      "cell_type": "code",
      "execution_count": null,
      "metadata": {
        "colab": {
          "background_save": true
        },
        "id": "YgUNXd9X8Wq3",
        "outputId": "b1b44f32-6c91-40ec-891d-286bc18e93ee"
      },
      "outputs": [
        {
          "name": "stdout",
          "output_type": "stream",
          "text": [
            "Train DataFrame length: 37541 \n"
          ]
        }
      ],
      "source": [
        "print(f'Train DataFrame length: {len(train_df)} ')"
      ]
    },
    {
      "cell_type": "code",
      "execution_count": null,
      "metadata": {
        "colab": {
          "background_save": true
        },
        "id": "dh4UBdHryh2j"
      },
      "outputs": [],
      "source": [
        "# prompt: convert rating to float\n",
        "\n",
        "train_df['rating'] = train_df['rating'].astype(float)\n",
        "# test_df['rating'] = test_df['rating'].astype(float)\n"
      ]
    },
    {
      "cell_type": "code",
      "execution_count": null,
      "metadata": {
        "colab": {
          "background_save": true
        },
        "id": "mhB2NQorTFnT"
      },
      "outputs": [],
      "source": [
        "# import pandas as pd\n",
        "# train_df=pd.read_csv('/content/drive/MyDrive/Sentiment_Model/amazon_reviews_allData.csv')"
      ]
    },
    {
      "cell_type": "code",
      "execution_count": null,
      "metadata": {
        "colab": {
          "background_save": true
        },
        "id": "oLRkMU4CTUi8"
      },
      "outputs": [],
      "source": [
        "# train_df.head()"
      ]
    },
    {
      "cell_type": "code",
      "execution_count": null,
      "metadata": {
        "colab": {
          "background_save": true
        },
        "id": "nhyY7Nki9HSy",
        "outputId": "f29c6afd-f67e-4bb6-e16c-1172e6f6e2de"
      },
      "outputs": [
        {
          "name": "stdout",
          "output_type": "stream",
          "text": [
            "<class 'pandas.core.frame.DataFrame'>\n",
            "RangeIndex: 37541 entries, 0 to 37540\n",
            "Data columns (total 12 columns):\n",
            " #   Column             Non-Null Count  Dtype         \n",
            "---  ------             --------------  -----         \n",
            " 0   unique_id_full     37541 non-null  object        \n",
            " 1   unique_id          37541 non-null  object        \n",
            " 2   asin               37541 non-null  object        \n",
            " 3   product_name       37541 non-null  object        \n",
            " 4   product_type_last  37541 non-null  object        \n",
            " 5   helpful            37541 non-null  object        \n",
            " 6   rating             37541 non-null  float64       \n",
            " 7   title              37541 non-null  object        \n",
            " 8   date               37539 non-null  datetime64[ns]\n",
            " 9   reviewer           37541 non-null  object        \n",
            " 10  reviewer_location  37541 non-null  object        \n",
            " 11  review_text        37541 non-null  object        \n",
            "dtypes: datetime64[ns](1), float64(1), object(10)\n",
            "memory usage: 3.4+ MB\n"
          ]
        }
      ],
      "source": [
        "train_df.info()"
      ]
    },
    {
      "cell_type": "code",
      "execution_count": null,
      "metadata": {
        "colab": {
          "background_save": true
        },
        "id": "T-h5-fCrx5Kz"
      },
      "outputs": [],
      "source": [
        "# Importing the saved dataframe file after I applied build_dataframe fuction to it, which took quite a time.\n",
        "train_df=pd.read_csv('/content/drive/MyDrive/Sentiment_Model/amazon_reviews_reviews&sentiment_processed_allData.csv')"
      ]
    },
    {
      "cell_type": "code",
      "execution_count": null,
      "metadata": {
        "colab": {
          "background_save": true
        },
        "id": "lrPYLTT2vKVh",
        "outputId": "7332b97c-56b6-4130-a1d8-89787c8b066e"
      },
      "outputs": [
        {
          "data": {
            "application/vnd.google.colaboratory.intrinsic+json": {
              "summary": "{\n  \"name\": \"train_df\",\n  \"rows\": 37541,\n  \"fields\": [\n    {\n      \"column\": \"Unnamed: 0\",\n      \"properties\": {\n        \"dtype\": \"number\",\n        \"std\": 10837,\n        \"min\": 0,\n        \"max\": 37540,\n        \"num_unique_values\": 37541,\n        \"samples\": [\n          7030,\n          19976,\n          25195\n        ],\n        \"semantic_type\": \"\",\n        \"description\": \"\"\n      }\n    },\n    {\n      \"column\": \"review_text\",\n      \"properties\": {\n        \"dtype\": \"string\",\n        \"num_unique_values\": 25376,\n        \"samples\": [\n          \"one favorite , used baby shower gift . simple set love carry parent ' monitor arround . 's also nice turn `` voice activated '' hear cry background noise . must n't want stand right next crib monitor sleeping baby\",\n          \"first , watched mainly see alan rickman . started watching film , admit , almost n't care . story unfolded , clue . film would watch distraction , everything clue-from husband demanding wife help watch road , mushroom , husband 's coffee ( drifter know took coffee ? ? ) , drifter asking alexis write thought sign , etc . watched commentary adam coleman howard , gained commentary director 's commentary . watched third time found enjoyed film . feel actor great job role . speaking rickman fan , totally shocked ending second third viewing close eye go hill skinny dipping . take enormous talent actor pull scene , found still ca n't watch . rickman fan , hesitate buying dvd , anyone else may want rent first .\",\n          \"'ve always read lot book single find mate , rate sped since 'm romance coach . somehow missed susan page 's `` 'm wonderful , still single ? '' even though since 1998 , last year single . , n't seen book ? susan page writes `` involuntary single '' -- straight , gay , male female , every one u single wish n't . relentlessly positive , start right point `` still single anyway ? '' , 've gotten shock , state flatly : '' whatever reason single , want relationship , reason good enough . '' page go tearing apart every good reason 've ever come keep single . 's page take turn around : ambivalence ( favorite ) , `` dreadful statistic , '' myth `` good way meet people , '' keeping high standard . work developing skill call `` frog kissing '' : learning say , recognize true intimacy , avoiding `` commitmentphobes , '' handling intimacy gap , learning say `` yes . '' last section , `` keeping together look , '' page tell . easily best , thorough , rounded positive book relationship dating seen . one page 's `` involuntary single , '' book need library . five chocolate dipped strawberry susan page ! quite book .\"\n        ],\n        \"semantic_type\": \"\",\n        \"description\": \"\"\n      }\n    },\n    {\n      \"column\": \"sentiment\",\n      \"properties\": {\n        \"dtype\": \"number\",\n        \"std\": 0,\n        \"min\": 0,\n        \"max\": 1,\n        \"num_unique_values\": 2,\n        \"samples\": [\n          0,\n          1\n        ],\n        \"semantic_type\": \"\",\n        \"description\": \"\"\n      }\n    }\n  ]\n}",
              "type": "dataframe",
              "variable_name": "train_df"
            },
            "text/html": [
              "\n",
              "  <div id=\"df-b6af871d-24f9-4ddb-8f2e-0a011f5079c0\" class=\"colab-df-container\">\n",
              "    <div>\n",
              "<style scoped>\n",
              "    .dataframe tbody tr th:only-of-type {\n",
              "        vertical-align: middle;\n",
              "    }\n",
              "\n",
              "    .dataframe tbody tr th {\n",
              "        vertical-align: top;\n",
              "    }\n",
              "\n",
              "    .dataframe thead th {\n",
              "        text-align: right;\n",
              "    }\n",
              "</style>\n",
              "<table border=\"1\" class=\"dataframe\">\n",
              "  <thead>\n",
              "    <tr style=\"text-align: right;\">\n",
              "      <th></th>\n",
              "      <th>Unnamed: 0</th>\n",
              "      <th>review_text</th>\n",
              "      <th>sentiment</th>\n",
              "    </tr>\n",
              "  </thead>\n",
              "  <tbody>\n",
              "    <tr>\n",
              "      <th>0</th>\n",
              "      <td>0</td>\n",
              "      <td>book good point . anything , help put word wan...</td>\n",
              "      <td>1</td>\n",
              "    </tr>\n",
              "    <tr>\n",
              "      <th>1</th>\n",
              "      <td>1</td>\n",
              "      <td>fatalistic view conservativism expressed kirk ...</td>\n",
              "      <td>1</td>\n",
              "    </tr>\n",
              "    <tr>\n",
              "      <th>2</th>\n",
              "      <td>2</td>\n",
              "      <td>intrigued title , supposedly link jedi wisdom ...</td>\n",
              "      <td>1</td>\n",
              "    </tr>\n",
              "    <tr>\n",
              "      <th>3</th>\n",
              "      <td>3</td>\n",
              "      <td>admit , n't finished book . friend recommended...</td>\n",
              "      <td>1</td>\n",
              "    </tr>\n",
              "    <tr>\n",
              "      <th>4</th>\n",
              "      <td>4</td>\n",
              "      <td>tried reading book found turgid poorly written...</td>\n",
              "      <td>1</td>\n",
              "    </tr>\n",
              "  </tbody>\n",
              "</table>\n",
              "</div>\n",
              "    <div class=\"colab-df-buttons\">\n",
              "\n",
              "  <div class=\"colab-df-container\">\n",
              "    <button class=\"colab-df-convert\" onclick=\"convertToInteractive('df-b6af871d-24f9-4ddb-8f2e-0a011f5079c0')\"\n",
              "            title=\"Convert this dataframe to an interactive table.\"\n",
              "            style=\"display:none;\">\n",
              "\n",
              "  <svg xmlns=\"http://www.w3.org/2000/svg\" height=\"24px\" viewBox=\"0 -960 960 960\">\n",
              "    <path d=\"M120-120v-720h720v720H120Zm60-500h600v-160H180v160Zm220 220h160v-160H400v160Zm0 220h160v-160H400v160ZM180-400h160v-160H180v160Zm440 0h160v-160H620v160ZM180-180h160v-160H180v160Zm440 0h160v-160H620v160Z\"/>\n",
              "  </svg>\n",
              "    </button>\n",
              "\n",
              "  <style>\n",
              "    .colab-df-container {\n",
              "      display:flex;\n",
              "      gap: 12px;\n",
              "    }\n",
              "\n",
              "    .colab-df-convert {\n",
              "      background-color: #E8F0FE;\n",
              "      border: none;\n",
              "      border-radius: 50%;\n",
              "      cursor: pointer;\n",
              "      display: none;\n",
              "      fill: #1967D2;\n",
              "      height: 32px;\n",
              "      padding: 0 0 0 0;\n",
              "      width: 32px;\n",
              "    }\n",
              "\n",
              "    .colab-df-convert:hover {\n",
              "      background-color: #E2EBFA;\n",
              "      box-shadow: 0px 1px 2px rgba(60, 64, 67, 0.3), 0px 1px 3px 1px rgba(60, 64, 67, 0.15);\n",
              "      fill: #174EA6;\n",
              "    }\n",
              "\n",
              "    .colab-df-buttons div {\n",
              "      margin-bottom: 4px;\n",
              "    }\n",
              "\n",
              "    [theme=dark] .colab-df-convert {\n",
              "      background-color: #3B4455;\n",
              "      fill: #D2E3FC;\n",
              "    }\n",
              "\n",
              "    [theme=dark] .colab-df-convert:hover {\n",
              "      background-color: #434B5C;\n",
              "      box-shadow: 0px 1px 3px 1px rgba(0, 0, 0, 0.15);\n",
              "      filter: drop-shadow(0px 1px 2px rgba(0, 0, 0, 0.3));\n",
              "      fill: #FFFFFF;\n",
              "    }\n",
              "  </style>\n",
              "\n",
              "    <script>\n",
              "      const buttonEl =\n",
              "        document.querySelector('#df-b6af871d-24f9-4ddb-8f2e-0a011f5079c0 button.colab-df-convert');\n",
              "      buttonEl.style.display =\n",
              "        google.colab.kernel.accessAllowed ? 'block' : 'none';\n",
              "\n",
              "      async function convertToInteractive(key) {\n",
              "        const element = document.querySelector('#df-b6af871d-24f9-4ddb-8f2e-0a011f5079c0');\n",
              "        const dataTable =\n",
              "          await google.colab.kernel.invokeFunction('convertToInteractive',\n",
              "                                                    [key], {});\n",
              "        if (!dataTable) return;\n",
              "\n",
              "        const docLinkHtml = 'Like what you see? Visit the ' +\n",
              "          '<a target=\"_blank\" href=https://colab.research.google.com/notebooks/data_table.ipynb>data table notebook</a>'\n",
              "          + ' to learn more about interactive tables.';\n",
              "        element.innerHTML = '';\n",
              "        dataTable['output_type'] = 'display_data';\n",
              "        await google.colab.output.renderOutput(dataTable, element);\n",
              "        const docLink = document.createElement('div');\n",
              "        docLink.innerHTML = docLinkHtml;\n",
              "        element.appendChild(docLink);\n",
              "      }\n",
              "    </script>\n",
              "  </div>\n",
              "\n",
              "\n",
              "<div id=\"df-36921b89-4636-48a5-a475-2606d327c67e\">\n",
              "  <button class=\"colab-df-quickchart\" onclick=\"quickchart('df-36921b89-4636-48a5-a475-2606d327c67e')\"\n",
              "            title=\"Suggest charts\"\n",
              "            style=\"display:none;\">\n",
              "\n",
              "<svg xmlns=\"http://www.w3.org/2000/svg\" height=\"24px\"viewBox=\"0 0 24 24\"\n",
              "     width=\"24px\">\n",
              "    <g>\n",
              "        <path d=\"M19 3H5c-1.1 0-2 .9-2 2v14c0 1.1.9 2 2 2h14c1.1 0 2-.9 2-2V5c0-1.1-.9-2-2-2zM9 17H7v-7h2v7zm4 0h-2V7h2v10zm4 0h-2v-4h2v4z\"/>\n",
              "    </g>\n",
              "</svg>\n",
              "  </button>\n",
              "\n",
              "<style>\n",
              "  .colab-df-quickchart {\n",
              "      --bg-color: #E8F0FE;\n",
              "      --fill-color: #1967D2;\n",
              "      --hover-bg-color: #E2EBFA;\n",
              "      --hover-fill-color: #174EA6;\n",
              "      --disabled-fill-color: #AAA;\n",
              "      --disabled-bg-color: #DDD;\n",
              "  }\n",
              "\n",
              "  [theme=dark] .colab-df-quickchart {\n",
              "      --bg-color: #3B4455;\n",
              "      --fill-color: #D2E3FC;\n",
              "      --hover-bg-color: #434B5C;\n",
              "      --hover-fill-color: #FFFFFF;\n",
              "      --disabled-bg-color: #3B4455;\n",
              "      --disabled-fill-color: #666;\n",
              "  }\n",
              "\n",
              "  .colab-df-quickchart {\n",
              "    background-color: var(--bg-color);\n",
              "    border: none;\n",
              "    border-radius: 50%;\n",
              "    cursor: pointer;\n",
              "    display: none;\n",
              "    fill: var(--fill-color);\n",
              "    height: 32px;\n",
              "    padding: 0;\n",
              "    width: 32px;\n",
              "  }\n",
              "\n",
              "  .colab-df-quickchart:hover {\n",
              "    background-color: var(--hover-bg-color);\n",
              "    box-shadow: 0 1px 2px rgba(60, 64, 67, 0.3), 0 1px 3px 1px rgba(60, 64, 67, 0.15);\n",
              "    fill: var(--button-hover-fill-color);\n",
              "  }\n",
              "\n",
              "  .colab-df-quickchart-complete:disabled,\n",
              "  .colab-df-quickchart-complete:disabled:hover {\n",
              "    background-color: var(--disabled-bg-color);\n",
              "    fill: var(--disabled-fill-color);\n",
              "    box-shadow: none;\n",
              "  }\n",
              "\n",
              "  .colab-df-spinner {\n",
              "    border: 2px solid var(--fill-color);\n",
              "    border-color: transparent;\n",
              "    border-bottom-color: var(--fill-color);\n",
              "    animation:\n",
              "      spin 1s steps(1) infinite;\n",
              "  }\n",
              "\n",
              "  @keyframes spin {\n",
              "    0% {\n",
              "      border-color: transparent;\n",
              "      border-bottom-color: var(--fill-color);\n",
              "      border-left-color: var(--fill-color);\n",
              "    }\n",
              "    20% {\n",
              "      border-color: transparent;\n",
              "      border-left-color: var(--fill-color);\n",
              "      border-top-color: var(--fill-color);\n",
              "    }\n",
              "    30% {\n",
              "      border-color: transparent;\n",
              "      border-left-color: var(--fill-color);\n",
              "      border-top-color: var(--fill-color);\n",
              "      border-right-color: var(--fill-color);\n",
              "    }\n",
              "    40% {\n",
              "      border-color: transparent;\n",
              "      border-right-color: var(--fill-color);\n",
              "      border-top-color: var(--fill-color);\n",
              "    }\n",
              "    60% {\n",
              "      border-color: transparent;\n",
              "      border-right-color: var(--fill-color);\n",
              "    }\n",
              "    80% {\n",
              "      border-color: transparent;\n",
              "      border-right-color: var(--fill-color);\n",
              "      border-bottom-color: var(--fill-color);\n",
              "    }\n",
              "    90% {\n",
              "      border-color: transparent;\n",
              "      border-bottom-color: var(--fill-color);\n",
              "    }\n",
              "  }\n",
              "</style>\n",
              "\n",
              "  <script>\n",
              "    async function quickchart(key) {\n",
              "      const quickchartButtonEl =\n",
              "        document.querySelector('#' + key + ' button');\n",
              "      quickchartButtonEl.disabled = true;  // To prevent multiple clicks.\n",
              "      quickchartButtonEl.classList.add('colab-df-spinner');\n",
              "      try {\n",
              "        const charts = await google.colab.kernel.invokeFunction(\n",
              "            'suggestCharts', [key], {});\n",
              "      } catch (error) {\n",
              "        console.error('Error during call to suggestCharts:', error);\n",
              "      }\n",
              "      quickchartButtonEl.classList.remove('colab-df-spinner');\n",
              "      quickchartButtonEl.classList.add('colab-df-quickchart-complete');\n",
              "    }\n",
              "    (() => {\n",
              "      let quickchartButtonEl =\n",
              "        document.querySelector('#df-36921b89-4636-48a5-a475-2606d327c67e button');\n",
              "      quickchartButtonEl.style.display =\n",
              "        google.colab.kernel.accessAllowed ? 'block' : 'none';\n",
              "    })();\n",
              "  </script>\n",
              "</div>\n",
              "\n",
              "    </div>\n",
              "  </div>\n"
            ],
            "text/plain": [
              "   Unnamed: 0                                        review_text  sentiment\n",
              "0           0  book good point . anything , help put word wan...          1\n",
              "1           1  fatalistic view conservativism expressed kirk ...          1\n",
              "2           2  intrigued title , supposedly link jedi wisdom ...          1\n",
              "3           3  admit , n't finished book . friend recommended...          1\n",
              "4           4  tried reading book found turgid poorly written...          1"
            ]
          },
          "execution_count": 14,
          "metadata": {},
          "output_type": "execute_result"
        }
      ],
      "source": [
        "train_df.head()"
      ]
    },
    {
      "cell_type": "code",
      "execution_count": null,
      "metadata": {
        "colab": {
          "background_save": true
        },
        "id": "XiXeh536cs68",
        "outputId": "1cce47aa-1adf-47c2-b57a-449d3dbbee6c"
      },
      "outputs": [
        {
          "data": {
            "text/plain": [
              "0    book good point . anything , help put word wan...\n",
              "1    fatalistic view conservativism expressed kirk ...\n",
              "2    intrigued title , supposedly link jedi wisdom ...\n",
              "3    admit , n't finished book . friend recommended...\n",
              "4    tried reading book found turgid poorly written...\n",
              "Name: review_text, dtype: object"
            ]
          },
          "execution_count": 16,
          "metadata": {},
          "output_type": "execute_result"
        }
      ],
      "source": [
        "## Looking at reviews\n",
        "train_df.head()['review_text']"
      ]
    },
    {
      "cell_type": "code",
      "execution_count": null,
      "metadata": {
        "colab": {
          "background_save": true
        },
        "id": "z78vYtVexTJn"
      },
      "outputs": [],
      "source": [
        "# Function to categorize rating into sentiment\n",
        "def categorize_rating(rating):\n",
        "    if rating > 3.0:\n",
        "        return 0\n",
        "    elif rating < 3.0:\n",
        "        return 1"
      ]
    },
    {
      "cell_type": "code",
      "execution_count": null,
      "metadata": {
        "colab": {
          "background_save": true
        },
        "id": "ijZNz5MfxcT-"
      },
      "outputs": [],
      "source": [
        "# Apply the categorize_rating function to 'rating' column\n",
        "train_df['sentiment'] = train_df['rating'].apply(categorize_rating)\n",
        "# test_df['sentiment'] = test_df['rating'].apply(categorize_rating)\n"
      ]
    },
    {
      "cell_type": "code",
      "execution_count": null,
      "metadata": {
        "colab": {
          "background_save": true
        },
        "id": "660cZhf4yw-M"
      },
      "outputs": [],
      "source": [
        "# Select only 'review_text' and 'sentiment' columns, because that is all we need for our model to train.\n",
        "# Wr can improve the model if we use other columns, which will be done in the future.\n",
        "train_df=train_df[['review_text','sentiment']]\n",
        "# test_df=test_df[['review_text','sentiment']]"
      ]
    },
    {
      "cell_type": "code",
      "execution_count": null,
      "metadata": {
        "colab": {
          "background_save": true
        },
        "id": "-oYUU2lZzYeT"
      },
      "outputs": [],
      "source": [
        "# Saving train_df=train_df[['review_text','sentiment']] So that all work done upto now is not invain.\n",
        "train_df.to_csv('amazon_reviews_allData.csv')\n",
        "# test_df.to_csv('amazon_reviews_only_reviews&sentiment_test1.csv')"
      ]
    },
    {
      "cell_type": "code",
      "execution_count": null,
      "metadata": {
        "colab": {
          "background_save": true
        },
        "id": "qhHmOlUOy75Y"
      },
      "outputs": [],
      "source": [
        "train_df[train_df['sentimnts']==0].head()['review_text']"
      ]
    },
    {
      "cell_type": "code",
      "execution_count": null,
      "metadata": {
        "colab": {
          "background_save": true
        },
        "id": "0v3TSSo7w2db"
      },
      "outputs": [],
      "source": [
        "# Function to preprocess text\n",
        "def preprocess_text(text):\n",
        "    # Tokenize the text\n",
        "    tokens = word_tokenize(text.lower())\n",
        "    # Remove stop words: like a, the, he, she, it, you etc.\n",
        "    filtered_tokens = [token for token in tokens if token not in stopwords.words('english')]\n",
        "    # Lemmatize the tokens\n",
        "    lemmatizer = WordNetLemmatizer()\n",
        "    lemmatized_tokens = [lemmatizer.lemmatize(token) for token in filtered_tokens]\n",
        "    # Join the tokens back into a string\n",
        "    processed_text = ' '.join(lemmatized_tokens)\n",
        "    return processed_text\n",
        "\n",
        "\n",
        "# Apply the preprocess_text function to 'review_text' column\n",
        "train_df['review_text'] = train_df['review_text'].apply(preprocess_text)\n",
        "# test_df['review_text'] = test_df['review_text'].apply(preprocess_text)\n",
        "# test_df"
      ]
    },
    {
      "cell_type": "code",
      "execution_count": null,
      "metadata": {
        "id": "pp3u22BpoYmH"
      },
      "outputs": [],
      "source": [
        "import pandas as pd\n",
        "train_df=pd.read_csv('/content/drive/MyDrive/Sentiment_Model/amazon_reviews_reviews&sentiment_processed_allData.csv')"
      ]
    },
    {
      "cell_type": "code",
      "execution_count": null,
      "metadata": {
        "colab": {
          "base_uri": "https://localhost:8080/"
        },
        "id": "lZewNF57gsmh",
        "outputId": "a4ce4bce-7409-4485-d2dc-853acc5f3e52"
      },
      "outputs": [
        {
          "output_type": "execute_result",
          "data": {
            "text/plain": [
              "sentiment\n",
              "0    30510\n",
              "1     7031\n",
              "Name: count, dtype: int64"
            ]
          },
          "metadata": {},
          "execution_count": 2
        }
      ],
      "source": [
        "# Count the number of each sentiment\n",
        "train_df['sentiment'].value_counts()"
      ]
    },
    {
      "cell_type": "code",
      "execution_count": null,
      "metadata": {
        "colab": {
          "base_uri": "https://localhost:8080/",
          "height": 428
        },
        "id": "yE2bk-ZRp1N4",
        "outputId": "86c41337-660f-4374-878f-13a21b9c9057"
      },
      "outputs": [
        {
          "output_type": "display_data",
          "data": {
            "text/plain": [
              "<Figure size 640x480 with 1 Axes>"
            ],
            "image/png": "[encoded data removed]"
          },
          "metadata": {}
        }
      ],
      "source": [
        "# Plot the sentiment distribution as a pie chart\n",
        "\n",
        "import matplotlib.pyplot as plt\n",
        "\n",
        "# Get the value counts of the 'sentiment' column\n",
        "sentiment_counts = train_df['sentiment'].value_counts()\n",
        "\n",
        "# Create a pie chart\n",
        "plt.pie(sentiment_counts, labels=['Positive', 'Negative'], autopct='%1.1f%%')\n",
        "plt.title('Sentiment Distribution')\n",
        "plt.show()\n"
      ]
    },
    {
      "cell_type": "code",
      "execution_count": null,
      "metadata": {
        "colab": {
          "base_uri": "https://localhost:8080/"
        },
        "id": "1kNy8M22hCn5",
        "outputId": "c34cd415-e572-4509-f417-84146f5d4a3f"
      },
      "outputs": [
        {
          "output_type": "execute_result",
          "data": {
            "text/plain": [
              "sentiment\n",
              "0    7031\n",
              "1    7031\n",
              "Name: count, dtype: int64"
            ]
          },
          "metadata": {},
          "execution_count": 4
        }
      ],
      "source": [
        "# Balance the dataset to have an equal number of positive and negative reviews\n",
        "\n",
        "df_0 = train_df[train_df['sentiment'] == 0]\n",
        "df_1 = train_df[train_df['sentiment'] == 1]\n",
        "\n",
        "df_0_sample = df_0.sample(n=len(df_1))\n",
        "df_balanced = pd.concat([df_0_sample, df_1], ignore_index=True)\n",
        "\n",
        "df_balanced['sentiment'].value_counts()\n"
      ]
    },
    {
      "cell_type": "code",
      "execution_count": null,
      "metadata": {
        "colab": {
          "base_uri": "https://localhost:8080/",
          "height": 428
        },
        "id": "J2nKWHgHqCY2",
        "outputId": "adb6d05b-02e9-4c22-cc90-46eb1c57f2e7"
      },
      "outputs": [
        {
          "output_type": "display_data",
          "data": {
            "text/plain": [
              "<Figure size 640x480 with 1 Axes>"
            ],
            "image/png": "[encoded data removed]"
          },
          "metadata": {}
        }
      ],
      "source": [
        "# Plot the balanced sentiment distribution\n",
        "import matplotlib.pyplot as plt\n",
        "\n",
        "# Get the value counts of the 'sentiment' column\n",
        "sentiment_counts = df_balanced['sentiment'].value_counts()\n",
        "\n",
        "# Create a pie chart\n",
        "plt.pie(sentiment_counts, labels=['Positive', 'Negative'], autopct='%1.1f%%')\n",
        "plt.title('Sentiment Distribution')\n",
        "plt.show()\n"
      ]
    },
    {
      "cell_type": "code",
      "execution_count": null,
      "metadata": {
        "id": "mqTlZp3Wzvwj"
      },
      "outputs": [],
      "source": [
        "# Save the balanced DataFrame to a CSV file\n",
        "df_balanced.to_csv('amazon_reviews_reviews&sentiment_processed_BalancedData.csv')\n",
        "# test_df.to_csv('amazon_reviews_reviews&sentiment_processed_test.csv')"
      ]
    },
    {
      "cell_type": "markdown",
      "source": [
        "## Getting Ready for Training the Model"
      ],
      "metadata": {
        "id": "pDwum5N7lkx0"
      }
    },
    {
      "cell_type": "code",
      "source": [
        "import tensorflow as tf\n",
        "import matplotlib.pyplot as plt\n",
        "from sklearn.preprocessing import LabelEncoder\n",
        "from tensorflow.keras.models import Sequential\n",
        "from tensorflow.keras.layers import Dense\n",
        "from tensorflow.keras.utils import to_categorical\n",
        "from sklearn.model_selection import train_test_split\n",
        "from sklearn.feature_extraction.text import TfidfVectorizer\n",
        "from tensorflow.keras.layers import Dropout"
      ],
      "metadata": {
        "id": "7wjw-9hYlh6q"
      },
      "execution_count": null,
      "outputs": []
    },
    {
      "cell_type": "code",
      "source": [
        "# Split data into training and validation sets\n",
        "from sklearn.model_selection import train_test_split\n",
        "X_train, X_val, y_train, y_val = train_test_split(df_balanced['review_text'], df_balanced['sentiment'], test_size=0.3, random_state=23)\n",
        "X_test, X_val2, y_test, y_val2 = train_test_split(X_val, y_val, test_size=0.3, random_state=23)\n"
      ],
      "metadata": {
        "id": "5NmnaSU7lzFW"
      },
      "execution_count": null,
      "outputs": []
    },
    {
      "cell_type": "code",
      "source": [
        "# Vectorize the text data using TF-IDF\n",
        "from sklearn.feature_extraction.text import TfidfVectorizer\n",
        "vectorizer = TfidfVectorizer(max_features=10000, ngram_range=(1, 3))\n",
        "X_train_vectorized = vectorizer.fit_transform(X_train)\n",
        "X_val2_vectorized = vectorizer.transform(X_val2)\n"
      ],
      "metadata": {
        "id": "uTaBDQr-mXGH"
      },
      "execution_count": null,
      "outputs": []
    },
    {
      "cell_type": "code",
      "source": [
        "# Convert the sparse matrix to a dense matrix\n",
        "X_train_vectorized = X_train_vectorized.todense()\n",
        "X_val2_vectorized = X_val2_vectorized.todense()"
      ],
      "metadata": {
        "id": "vlIWU1KtmZ7v"
      },
      "execution_count": null,
      "outputs": []
    },
    {
      "cell_type": "code",
      "source": [
        "# Convert labels to one-hot encoding\n",
        "from sklearn.preprocessing import LabelEncoder\n",
        "from tensorflow.keras.utils import to_categorical\n",
        "encoder = LabelEncoder()\n",
        "y_train_encoded = to_categorical(encoder.fit_transform(y_train))\n",
        "y_val2_encoded = to_categorical(encoder.transform(y_val2))"
      ],
      "metadata": {
        "id": "i8Tiekimmcce"
      },
      "execution_count": null,
      "outputs": []
    },
    {
      "cell_type": "code",
      "source": [
        "# Define a simple neural network model using TensorFlow\n",
        "import tensorflow as tf\n",
        "from tensorflow.keras.models import Sequential\n",
        "from tensorflow.keras.layers import Dense, Dropout\n",
        "\n",
        "model = Sequential()\n",
        "model.add(Dense(512, input_shape=(X_train_vectorized.shape[1],), activation='relu'))\n",
        "model.add(Dropout(0.5))\n",
        "model.add(Dense(256, activation='relu'))\n",
        "model.add(Dropout(0.5))\n",
        "model.add(Dense(2, activation='softmax'))  # 2 because we have two classes\n"
      ],
      "metadata": {
        "id": "GxQrq3ikmlog"
      },
      "execution_count": null,
      "outputs": []
    },
    {
      "cell_type": "code",
      "source": [
        "# Compile the model\n",
        "model.compile(optimizer='adam', loss='categorical_crossentropy', metrics=['accuracy'])\n",
        "\n",
        "# Train the model over epochs\n",
        "history = model.fit(X_train_vectorized, y_train_encoded, epochs=8, batch_size=128,\n",
        "                    validation_data=(X_val2_vectorized, y_val2_encoded), verbose=1)\n"
      ],
      "metadata": {
        "colab": {
          "base_uri": "https://localhost:8080/"
        },
        "id": "FqeiiAZUmpO2",
        "outputId": "feac6a5d-49f2-4da7-923e-3cc2f533253f"
      },
      "execution_count": null,
      "outputs": [
        {
          "output_type": "stream",
          "name": "stdout",
          "text": [
            "Epoch 1/8\n",
            "77/77 [==============================] - 11s 129ms/step - loss: 0.4983 - accuracy: 0.7639 - val_loss: 0.3187 - val_accuracy: 0.8712\n",
            "Epoch 2/8\n",
            "77/77 [==============================] - 11s 148ms/step - loss: 0.1827 - accuracy: 0.9329 - val_loss: 0.3160 - val_accuracy: 0.8791\n",
            "Epoch 3/8\n",
            "77/77 [==============================] - 11s 149ms/step - loss: 0.0647 - accuracy: 0.9809 - val_loss: 0.3945 - val_accuracy: 0.8752\n",
            "Epoch 4/8\n",
            "77/77 [==============================] - 12s 163ms/step - loss: 0.0171 - accuracy: 0.9965 - val_loss: 0.5144 - val_accuracy: 0.8578\n",
            "Epoch 5/8\n",
            "77/77 [==============================] - 13s 166ms/step - loss: 0.0049 - accuracy: 0.9996 - val_loss: 0.5466 - val_accuracy: 0.8752\n",
            "Epoch 6/8\n",
            "77/77 [==============================] - 9s 113ms/step - loss: 0.0021 - accuracy: 0.9998 - val_loss: 0.5963 - val_accuracy: 0.8673\n",
            "Epoch 7/8\n",
            "77/77 [==============================] - 10s 136ms/step - loss: 0.0011 - accuracy: 0.9998 - val_loss: 0.6367 - val_accuracy: 0.8681\n",
            "Epoch 8/8\n",
            "77/77 [==============================] - 8s 107ms/step - loss: 5.4169e-04 - accuracy: 1.0000 - val_loss: 0.6675 - val_accuracy: 0.8697\n"
          ]
        }
      ]
    },
    {
      "cell_type": "code",
      "execution_count": null,
      "metadata": {
        "colab": {
          "base_uri": "https://localhost:8080/",
          "height": 564
        },
        "id": "aoP3uwTv1f8s",
        "outputId": "85936ce7-44e2-4853-dbcb-75069911bca3"
      },
      "outputs": [
        {
          "output_type": "display_data",
          "data": {
            "text/plain": [
              "<Figure size 1000x600 with 1 Axes>"
            ],
            "image/png": "[encoded data removed]"
          },
          "metadata": {}
        }
      ],
      "source": [
        "# Plotting the model accuracy over epochs\n",
        "plt.figure(figsize=(10, 6))\n",
        "plt.plot(history.history['accuracy'], label='Train Accuracy', marker='o')\n",
        "plt.plot(history.history['val_accuracy'], label='Validation Accuracy', marker='o')\n",
        "plt.title('Model Accuracy over All Data Epochs On Balanced Dataset')\n",
        "plt.xlabel('Epoch')\n",
        "plt.ylabel('Accuracy')\n",
        "plt.legend()\n",
        "plt.grid(True)\n",
        "plt.show()"
      ]
    },
    {
      "cell_type": "code",
      "execution_count": null,
      "metadata": {
        "colab": {
          "base_uri": "https://localhost:8080/"
        },
        "id": "u8sN1Thd3Y6F",
        "outputId": "ac72844c-75bf-4b3b-9fe0-4d6a5a1f4c0e"
      },
      "outputs": [
        {
          "output_type": "stream",
          "name": "stderr",
          "text": [
            "/usr/local/lib/python3.10/dist-packages/keras/src/engine/training.py:3103: UserWarning: You are saving your model as an HDF5 file via `model.save()`. This file format is considered legacy. We recommend using instead the native Keras format, e.g. `model.save('my_model.keras')`.\n",
            "  saving_api.save_model(\n"
          ]
        }
      ],
      "source": [
        "# Save the trained model\n",
        "model.save('sentiment_analysis_model_on_allData_balaced_dataset.h5')  # Saves the model to a HDF5 file\n"
      ]
    },
    {
      "cell_type": "code",
      "execution_count": null,
      "metadata": {
        "id": "4PfM4gRp45_I"
      },
      "outputs": [],
      "source": [
        "import pickle\n",
        "\n",
        "# Save the vectorizer\n",
        "with open('vectorizer.pkl', 'wb') as f:\n",
        "    pickle.dump(vectorizer, f)\n",
        "\n",
        "# Save the encoder\n",
        "with open('encoder.pkl', 'wb') as f:\n",
        "    pickle.dump(encoder, f)\n"
      ]
    },
    {
      "cell_type": "code",
      "execution_count": null,
      "metadata": {
        "id": "edplupEi_14Q"
      },
      "outputs": [],
      "source": [
        "from tensorflow.keras.models import load_model\n",
        "import pickle\n",
        "# Load the model\n",
        "model = load_model('/content/drive/MyDrive/Sentiment_Model/sentiment_analysis_model.keras')\n",
        "\n",
        "# Load the vectorizer and encoder\n",
        "with open('/content/drive/MyDrive/Sentiment_Model/vectorizer.pkl', 'rb') as f:\n",
        "    vectorizer = pickle.load(f)\n",
        "\n",
        "with open('/content/drive/MyDrive/Sentiment_Model/encoder.pkl', 'rb') as f:\n",
        "    encoder = pickle.load(f)"
      ]
    },
    {
      "cell_type": "code",
      "execution_count": null,
      "metadata": {
        "colab": {
          "base_uri": "https://localhost:8080/"
        },
        "id": "hJVONytq5sky",
        "outputId": "e6b572a6-02a6-41e8-9fa5-dc91e0ed7283"
      },
      "outputs": [
        {
          "output_type": "stream",
          "name": "stdout",
          "text": [
            "93/93 [==============================] - 1s 12ms/step\n"
          ]
        }
      ],
      "source": [
        "import numpy as np\n",
        "from sklearn.preprocessing import LabelEncoder\n",
        "from sklearn.metrics import confusion_matrix, accuracy_score, classification_report\n",
        "\n",
        "# Vectorize the test data\n",
        "X_test_vectorized = vectorizer.transform(X_test).todense()\n",
        "\n",
        "# Predict using the model\n",
        "predictions = model.predict(X_test_vectorized)\n",
        "\n",
        "# Convert predictions from one-hot encoded form to label form\n",
        "predicted_labels = np.argmax(predictions, axis=1)\n",
        "\n",
        "# Decode the predicted labels using LabelEncoder\n",
        "predicted_labels_decoded = encoder.inverse_transform(predicted_labels)\n"
      ]
    },
    {
      "cell_type": "code",
      "execution_count": null,
      "metadata": {
        "id": "VSgioGPHBH7A"
      },
      "outputs": [],
      "source": [
        "# Decode the predicted labels using LabelEncoder\n",
        "predicted_labels_decoded = encoder.inverse_transform(predicted_labels)\n"
      ]
    },
    {
      "cell_type": "code",
      "execution_count": null,
      "metadata": {
        "id": "REZWCFZTBK3-"
      },
      "outputs": [],
      "source": [
        "# Transform actual test labels to match the encoded labels if they aren't already transformed\n",
        "y_test_encoded = encoder.transform(y_test)\n"
      ]
    },
    {
      "cell_type": "code",
      "execution_count": null,
      "metadata": {
        "colab": {
          "base_uri": "https://localhost:8080/"
        },
        "id": "7Xpyj2iBBO9G",
        "outputId": "6ab17771-9911-4367-b2e1-a12de38a7589"
      },
      "outputs": [
        {
          "output_type": "stream",
          "name": "stdout",
          "text": [
            "Confusion Matrix:\n",
            " [[1293  201]\n",
            " [ 205 1254]]\n",
            "Accuracy: 86.25%\n",
            "Classification Report:\n",
            "               precision    recall  f1-score   support\n",
            "\n",
            "           0       0.86      0.87      0.86      1494\n",
            "           1       0.86      0.86      0.86      1459\n",
            "\n",
            "    accuracy                           0.86      2953\n",
            "   macro avg       0.86      0.86      0.86      2953\n",
            "weighted avg       0.86      0.86      0.86      2953\n",
            "\n"
          ]
        }
      ],
      "source": [
        "# Evaluate the model\n",
        "from sklearn.metrics import confusion_matrix, accuracy_score, classification_report\n",
        "\n",
        "# Confusion Matrix\n",
        "conf_matrix = confusion_matrix(y_test_encoded, predicted_labels)\n",
        "\n",
        "# Accuracy\n",
        "accuracy = accuracy_score(y_test_encoded, predicted_labels)\n",
        "\n",
        "# Classification Report for precision, recall, f1-score\n",
        "class_report = classification_report(y_test_encoded, predicted_labels)\n",
        "\n",
        "print(\"Confusion Matrix:\\n\", conf_matrix)\n",
        "print(\"Accuracy: {:.2f}%\".format(accuracy * 100))\n",
        "print(\"Classification Report:\\n\", class_report)\n"
      ]
    },
    {
      "cell_type": "code",
      "execution_count": null,
      "metadata": {
        "colab": {
          "base_uri": "https://localhost:8080/",
          "height": 671
        },
        "id": "AzxaeC7XDQHr",
        "outputId": "5af81add-01fe-4e9b-9587-9e3dab79f235"
      },
      "outputs": [
        {
          "output_type": "stream",
          "name": "stderr",
          "text": [
            "<ipython-input-27-6df14afdd0cb>:24: FutureWarning: \n",
            "\n",
            "Passing `palette` without assigning `hue` is deprecated and will be removed in v0.14.0. Assign the `y` variable to `hue` and set `legend=False` for the same effect.\n",
            "\n",
            "  sns.barplot(x='rank', y='term', data=top_terms, palette='viridis')\n"
          ]
        },
        {
          "output_type": "display_data",
          "data": {
            "text/plain": [
              "<Figure size 1000x600 with 1 Axes>"
            ],
            "image/png": "[encoded data removed]"
          },
          "metadata": {}
        }
      ],
      "source": [
        "# Importing required libraries\n",
        "import matplotlib.pyplot as plt\n",
        "import seaborn as sns\n",
        "import numpy as np\n",
        "\n",
        "# Get feature names\n",
        "# Extracting the names of the features (terms) from the TF-IDF vectorizer\n",
        "feature_names = vectorizer.get_feature_names_out()\n",
        "\n",
        "# Sum tf-idf frequency of each term through documents\n",
        "# Summing the TF-IDF scores for each term across all documents in the training set\n",
        "sums = X_train_vectorized.sum(axis=0)\n",
        "\n",
        "# Connecting term to its sums frequency\n",
        "# Creating a list to store terms and their corresponding summed TF-IDF scores\n",
        "data = []\n",
        "for col, term in enumerate(feature_names):\n",
        "    data.append((term, sums[0, col]))  # Appending term and its summed TF-IDF score as a tuple to the list\n",
        "\n",
        "# Creating a DataFrame to hold the terms and their TF-IDF scores\n",
        "ranking = pd.DataFrame(data, columns=['term', 'rank'])\n",
        "\n",
        "# Sorting the DataFrame by the 'rank' column in descending order to get the highest TF-IDF scores at the top\n",
        "ranking = ranking.sort_values('rank', ascending=False)\n",
        "\n",
        "# Selecting the top 20 terms with the highest TF-IDF scores\n",
        "top_terms = ranking.head(20)\n",
        "\n",
        "# Plotting the top 20 terms\n",
        "plt.figure(figsize=(10, 6))  # Setting the figure size\n",
        "sns.barplot(x='rank', y='term', data=top_terms, palette='viridis')  # Creating a bar plot with seaborn\n",
        "plt.title('Top TF-IDF Scores in Training Set On Balanced Dataset')  # Setting the plot title\n",
        "plt.xlabel('TF-IDF Score')  # Labeling the x-axis\n",
        "plt.show()  # Displaying the plot\n",
        "\n"
      ]
    },
    {
      "cell_type": "markdown",
      "metadata": {
        "id": "ss1Zz603klzZ"
      },
      "source": [
        "# Class to train the model"
      ]
    },
    {
      "cell_type": "code",
      "execution_count": null,
      "metadata": {
        "colab": {
          "base_uri": "https://localhost:8080/",
          "height": 1000
        },
        "id": "eNZZ4xcbkosb",
        "outputId": "ed6a7338-3689-4968-bf9d-d131fd4dad22"
      },
      "outputs": [
        {
          "output_type": "stream",
          "name": "stdout",
          "text": [
            "Epoch 1/10\n",
            "77/77 [==============================] - 16s 165ms/step - loss: 0.5959 - accuracy: 0.7706 - val_loss: 0.4387 - val_accuracy: 0.8540\n",
            "Epoch 2/10\n",
            "77/77 [==============================] - 12s 159ms/step - loss: 0.3114 - accuracy: 0.9266 - val_loss: 0.4491 - val_accuracy: 0.8621\n",
            "Epoch 3/10\n",
            "77/77 [==============================] - 12s 156ms/step - loss: 0.2146 - accuracy: 0.9703 - val_loss: 0.5044 - val_accuracy: 0.8602\n",
            "Epoch 4/10\n",
            "77/77 [==============================] - 12s 152ms/step - loss: 0.1618 - accuracy: 0.9885 - val_loss: 0.5651 - val_accuracy: 0.8611\n",
            "Epoch 5/10\n",
            "77/77 [==============================] - 10s 132ms/step - loss: 0.1365 - accuracy: 0.9949 - val_loss: 0.6031 - val_accuracy: 0.8623\n",
            "Epoch 6/10\n",
            "77/77 [==============================] - 14s 186ms/step - loss: 0.1233 - accuracy: 0.9954 - val_loss: 0.6098 - val_accuracy: 0.8682\n",
            "Epoch 7/10\n",
            "77/77 [==============================] - 12s 157ms/step - loss: 0.1227 - accuracy: 0.9941 - val_loss: 0.6294 - val_accuracy: 0.8583\n",
            "Epoch 8/10\n",
            "77/77 [==============================] - 12s 154ms/step - loss: 0.1247 - accuracy: 0.9938 - val_loss: 0.6431 - val_accuracy: 0.8568\n",
            "Epoch 9/10\n",
            "77/77 [==============================] - 12s 161ms/step - loss: 0.1381 - accuracy: 0.9906 - val_loss: 0.6368 - val_accuracy: 0.8552\n",
            "Epoch 10/10\n",
            "77/77 [==============================] - 12s 154ms/step - loss: 0.1448 - accuracy: 0.9911 - val_loss: 0.6669 - val_accuracy: 0.8547\n"
          ]
        },
        {
          "output_type": "display_data",
          "data": {
            "text/plain": [
              "<Figure size 1000x600 with 1 Axes>"
            ],
            "image/png": "[encoded data removed]"
          },
          "metadata": {}
        },
        {
          "output_type": "stream",
          "name": "stderr",
          "text": [
            "/usr/local/lib/python3.10/dist-packages/keras/src/engine/training.py:3103: UserWarning: You are saving your model as an HDF5 file via `model.save()`. This file format is considered legacy. We recommend using instead the native Keras format, e.g. `model.save('my_model.keras')`.\n",
            "  saving_api.save_model(\n"
          ]
        },
        {
          "output_type": "stream",
          "name": "stdout",
          "text": [
            "93/93 [==============================] - 2s 20ms/step\n"
          ]
        },
        {
          "output_type": "display_data",
          "data": {
            "text/plain": [
              "<Figure size 800x800 with 1 Axes>"
            ],
            "image/png": "[encoded data removed]"
          },
          "metadata": {}
        },
        {
          "output_type": "execute_result",
          "data": {
            "text/plain": [
              "85.4724009481883"
            ]
          },
          "metadata": {},
          "execution_count": 34
        }
      ],
      "source": [
        "import numpy as np\n",
        "import matplotlib.pyplot as plt\n",
        "import pickle\n",
        "from sklearn.preprocessing import LabelEncoder\n",
        "from sklearn.metrics import confusion_matrix, accuracy_score, classification_report\n",
        "from sklearn.model_selection import train_test_split\n",
        "from sklearn.feature_extraction.text import TfidfVectorizer\n",
        "from tensorflow.keras.models import Sequential, load_model\n",
        "from tensorflow.keras.layers import Dense, Dropout\n",
        "from tensorflow.keras.regularizers import l2\n",
        "from tensorflow.keras.utils import to_categorical\n",
        "from nltk.tokenize import word_tokenize\n",
        "from nltk.corpus import stopwords\n",
        "from nltk.stem import WordNetLemmatizer\n",
        "\n",
        "class SentimentAnalysisModel:\n",
        "    \"\"\"\n",
        "    A class to build, train, evaluate, and use a sentiment analysis model.\n",
        "\n",
        "    Methods:\n",
        "    - __init__(self, l2_reg=None): Initialize the model with optional L2 regularization.\n",
        "    - build_model(self): Build a neural network model with optional L2 regularization.\n",
        "    - train(self, X_train, y_train, X_val, y_val, epochs=10, batch_size=128): Train the model.\n",
        "    - plot_accuracy(self): Plot the training and validation accuracy over epochs.\n",
        "    - save_model(self, model_path, vectorizer_path, encoder_path): Save the model, vectorizer, and encoder.\n",
        "    - load_model(self, model_path, vectorizer_path, encoder_path): Load a trained model, vectorizer, and encoder.\n",
        "    - predict_texts(self, texts): Predict the sentiment of a list of texts.\n",
        "    - evaluate(self, X_test, y_test): Evaluate the model on the test data.\n",
        "    - preprocess_text(self, text): Preprocess a text (tokenize, remove stopwords, lemmatize).\n",
        "    - plot_confusion_matrix(self, y_true, y_pred): Plot the confusion matrix.\n",
        "    \"\"\"\n",
        "\n",
        "    def __init__(self, l2_reg=None):\n",
        "        \"\"\"\n",
        "        Initialize the model with optional L2 regularization.\n",
        "\n",
        "        :param l2_reg: L2 regularization factor (default is None)\n",
        "        \"\"\"\n",
        "        self.vectorizer = TfidfVectorizer(max_features=10000, ngram_range=(1, 3))\n",
        "        self.encoder = LabelEncoder()\n",
        "        if l2_reg is not None:\n",
        "            self.l2_reg = l2(l2_reg)\n",
        "        else:\n",
        "            self.l2_reg = None\n",
        "        self.model = self.build_model()\n",
        "        self.stop_words = set(stopwords.words('english'))\n",
        "        self.lemmatizer = WordNetLemmatizer()\n",
        "\n",
        "    def build_model(self):\n",
        "        \"\"\"\n",
        "        Build a neural network model with optional L2 regularization.\n",
        "\n",
        "        :return: Compiled neural network model\n",
        "        \"\"\"\n",
        "        model = Sequential()\n",
        "        model.add(Dense(512, input_shape=(10000,), activation='relu', kernel_regularizer=self.l2_reg))\n",
        "        model.add(Dropout(0.5))\n",
        "        model.add(Dense(256, activation='relu', kernel_regularizer=self.l2_reg))\n",
        "        model.add(Dropout(0.5))\n",
        "        model.add(Dense(2, activation='softmax'))\n",
        "        model.compile(optimizer='adam', loss='categorical_crossentropy', metrics=['accuracy'])\n",
        "        return model\n",
        "\n",
        "    def train(self, X_train, y_train, X_val, y_val, epochs=10, batch_size=128):\n",
        "        \"\"\"\n",
        "        Train the model on the training data and validate on the validation data.\n",
        "\n",
        "        :param X_train: Training data (features)\n",
        "        :param y_train: Training data (labels)\n",
        "        :param X_val: Validation data (features)\n",
        "        :param y_val: Validation data (labels)\n",
        "        :param epochs: Number of epochs to train (default is 10)\n",
        "        :param batch_size: Batch size for training (default is 128)\n",
        "        \"\"\"\n",
        "        X_train_vectorized = self.vectorizer.fit_transform(X_train).todense()\n",
        "        X_val_vectorized = self.vectorizer.transform(X_val).todense()\n",
        "        y_train_encoded = to_categorical(self.encoder.fit_transform(y_train))\n",
        "        y_val_encoded = to_categorical(self.encoder.transform(y_val))\n",
        "        self.history = self.model.fit(X_train_vectorized, y_train_encoded, epochs=epochs, batch_size=batch_size,\n",
        "                                      validation_data=(X_val_vectorized, y_val_encoded), verbose=1)\n",
        "\n",
        "    def plot_accuracy(self):\n",
        "        \"\"\"\n",
        "        Plot the training and validation accuracy over epochs.\n",
        "        \"\"\"\n",
        "        plt.figure(figsize=(10, 6))\n",
        "        plt.plot(self.history.history['accuracy'], label='Train Accuracy', marker='o')\n",
        "        plt.plot(self.history.history['val_accuracy'], label='Validation Accuracy', marker='o')\n",
        "        plt.title('Model Accuracy over Epochs')\n",
        "        plt.xlabel('Epoch')\n",
        "        plt.ylabel('Accuracy')\n",
        "        plt.legend()\n",
        "        plt.grid(True)\n",
        "        plt.show()\n",
        "\n",
        "    def save_model(self, model_path, vectorizer_path, encoder_path):\n",
        "        \"\"\"\n",
        "        Save the trained model, vectorizer, and encoder to disk.\n",
        "\n",
        "        :param model_path: Path to save the model\n",
        "        :param vectorizer_path: Path to save the vectorizer\n",
        "        :param encoder_path: Path to save the encoder\n",
        "        \"\"\"\n",
        "        self.model.save(model_path)\n",
        "        with open(vectorizer_path, 'wb') as f:\n",
        "            pickle.dump(self.vectorizer, f)\n",
        "        with open(encoder_path, 'wb') as f:\n",
        "            pickle.dump(self.encoder, f)\n",
        "\n",
        "    def load_model(self, model_path, vectorizer_path, encoder_path):\n",
        "        \"\"\"\n",
        "        Load a trained model, vectorizer, and encoder from disk.\n",
        "\n",
        "        :param model_path: Path to load the model from\n",
        "        :param vectorizer_path: Path to load the vectorizer from\n",
        "        :param encoder_path: Path to load the encoder from\n",
        "        \"\"\"\n",
        "        self.model = load_model(model_path)\n",
        "        with open(vectorizer_path, 'rb') as f:\n",
        "            self.vectorizer = pickle.load(f)\n",
        "        with open(encoder_path, 'rb') as f:\n",
        "            self.encoder = pickle.load(f)\n",
        "\n",
        "    def predict_texts(self, texts):\n",
        "        \"\"\"\n",
        "        Predict the sentiment of a list of texts.\n",
        "\n",
        "        :param texts: List of texts to predict\n",
        "        :return: Predicted sentiment labels\n",
        "        \"\"\"\n",
        "        preprocessed_texts = [self.preprocess_text(text) for text in texts]\n",
        "        text_vectorized = self.vectorizer.transform(preprocessed_texts).todense()\n",
        "        predictions = self.model.predict(text_vectorized)\n",
        "        predicted_labels_indices = np.argmax(predictions, axis=1)\n",
        "        predicted_labels = self.encoder.inverse_transform(predicted_labels_indices)\n",
        "        return predicted_labels\n",
        "\n",
        "    def evaluate(self, X_test, y_test):\n",
        "        \"\"\"\n",
        "        Evaluate the model on the test data.\n",
        "\n",
        "        :param X_test: Test data (features)\n",
        "        :param y_test: Test data (labels)\n",
        "        :return: Accuracy of the model on the test data\n",
        "        \"\"\"\n",
        "        X_test_vectorized = self.vectorizer.transform(X_test).todense()\n",
        "        predictions = self.model.predict(X_test_vectorized)\n",
        "        predicted_labels = np.argmax(predictions, axis=1)\n",
        "        y_test_encoded = self.encoder.transform(y_test)\n",
        "        accuracy = accuracy_score(y_test_encoded, predicted_labels) * 100\n",
        "        self.plot_confusion_matrix(y_test_encoded, predicted_labels)\n",
        "        return accuracy\n",
        "\n",
        "    def preprocess_text(self, text):\n",
        "        \"\"\"\n",
        "        Preprocess a text by tokenizing, removing stopwords, and lemmatizing.\n",
        "\n",
        "        :param text: Text to preprocess\n",
        "        :return: Preprocessed text\n",
        "        \"\"\"\n",
        "        tokens = word_tokenize(text.lower())\n",
        "        filtered_tokens = [token for token in tokens if token not in self.stop_words]\n",
        "        lemmatized_tokens = [self.lemmatizer.lemmatize(token) for token in filtered_tokens]\n",
        "        processed_text = ' '.join(lemmatized_tokens)\n",
        "        return processed_text\n",
        "\n",
        "    def plot_confusion_matrix(self, y_true, y_pred):\n",
        "        \"\"\"\n",
        "        Plot the confusion matrix for the predictions.\n",
        "\n",
        "        :param y_true: True labels\n",
        "        :param y_pred: Predicted labels\n",
        "        \"\"\"\n",
        "        cm = confusion_matrix(y_true, y_pred)\n",
        "        fig, ax = plt.subplots(figsize=(8, 8))\n",
        "        ax.imshow(cm, cmap=plt.cm.Blues)\n",
        "        ax.xaxis.set(ticks=(0, 1), ticklabels=('Predicted 0s', 'Predicted 1s'))\n",
        "        ax.yaxis.set(ticks=(0, 1), ticklabels=('Actual 0s', 'Actual 1s'))\n",
        "        ax.set_ylim(1.5, -0.5)\n",
        "        for i in range(2):\n",
        "            for j in range(2):\n",
        "                ax.text(j, i, cm[i, j], ha='center', va='center', color='red')\n",
        "        plt.title(f'Confusion Matrix - L2 Regularization: {self.l2_reg if self.l2_reg else \"Not used\"}')\n",
        "        plt.show()\n",
        "\n",
        "# Using the SentimentAnalysisModel class with regularization.\n",
        "model = SentimentAnalysisModel(l2_reg=0.00015)\n",
        "model.train(X_train, y_train, X_val, y_val)\n",
        "model.plot_accuracy()\n",
        "model.save_model('model.h5', 'vectorizer.pkl', 'encoder.pkl')\n",
        "model.load_model('model.h5', 'vectorizer.pkl', 'encoder.pkl')\n",
        "model.evaluate(X_test, y_test)  # Assuming X_test and y_test are defined"
      ]
    },
    {
      "cell_type": "code",
      "execution_count": null,
      "metadata": {
        "colab": {
          "background_save": true
        },
        "id": "YwhfCg6b41-C"
      },
      "outputs": [],
      "source": []
    }
  ],
  "metadata": {
    "colab": {
      "provenance": []
    },
    "kernelspec": {
      "display_name": "Python 3",
      "name": "python3"
    },
    "language_info": {
      "name": "python"
    }
  },
  "nbformat": 4,
  "nbformat_minor": 0
}